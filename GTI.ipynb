{
  "nbformat": 4,
  "nbformat_minor": 0,
  "metadata": {
    "colab": {
      "name": "GTI_CIENCIA (1).ipynb",
      "provenance": [],
      "collapsed_sections": []
    },
    "kernelspec": {
      "name": "python3",
      "display_name": "Python 3"
    },
    "language_info": {
      "name": "python"
    }
  },
  "cells": [
    {
      "cell_type": "markdown",
      "metadata": {
        "id": "tpirjWpJCLUF"
      },
      "source": [
        "Entrega do Projeto Acidentes Aéreos - Turma 22 "
      ]
    },
    {
      "cell_type": "markdown",
      "metadata": {
        "id": "qO3e3L5MCkEQ"
      },
      "source": [
        "https://www.kaggle.com/jhiltonsantos/analiseestatisticaacidentesaereos\n",
        "\n",
        "https://www.kaggle.com/nosbielcs/opendataaigbrazil\n",
        "\n",
        "https://www2.fab.mil.br/cenipa/index.php/estatisticas/panorama?download=207:sumario-estatistico-de-avioes\n",
        "\n"
      ]
    },
    {
      "cell_type": "markdown",
      "metadata": {
        "id": "cpGcfofdB9IF"
      },
      "source": [
        "Nome: Caio Oliveira Africo da Silva RA: 420111925\n",
        "\n",
        "Nome: Eduardo Lopes Martins Filho RA: 420103667\n",
        "\n",
        "Nome: Kleber Silva Vianna RA: 420111981\n",
        "\n",
        "Nome: Hallennen Gonçalves Marinho RA: 419100224\n",
        "\n",
        "Nome: Luis Felipe Correia da Silva RA: 419117605\n",
        "\n",
        "Nome: Gustavo Henrrique de Santana RA: 420110136\n",
        "\n",
        "Nome: Matheus de Oliveira Ferreira RA: 420103800\n",
        "\n",
        "Nome: Salatiel dos Anjos Fiore RA: 420101105\n",
        "\n",
        "Nome: Vitor Soares Menezes RA: 420114388\n",
        "\n",
        "Nome: Vinicius Ramos da Silva RA: 420109625\n"
      ]
    },
    {
      "cell_type": "code",
      "metadata": {
        "colab": {
          "base_uri": "https://localhost:8080/"
        },
        "id": "k9b4iAi0FXmS",
        "outputId": "4cf630fd-47ad-4b9c-eca3-ac4355c47b32"
      },
      "source": [
        "from google.colab import drive\n",
        "drive.mount('/content/drive')"
      ],
      "execution_count": null,
      "outputs": [
        {
          "output_type": "stream",
          "name": "stdout",
          "text": [
            "Drive already mounted at /content/drive; to attempt to forcibly remount, call drive.mount(\"/content/drive\", force_remount=True).\n"
          ]
        }
      ]
    },
    {
      "cell_type": "code",
      "metadata": {
        "colab": {
          "base_uri": "https://localhost:8080/",
          "height": 887
        },
        "id": "QWVjwrkyemFG",
        "outputId": "e28dbf01-7bc6-48c9-b7dc-21341b5d3311"
      },
      "source": [
        "import matplotlib.pyplot as plt\n",
        "import pandas as pd\n",
        "import numpy as np\n",
        "\n",
        "%matplotlib inline\n",
        "\n",
        "acidentes= pd.read_csv('/content/drive/MyDrive/ocorrencias_cenipa_10.csv',sep =';',encoding='utf-8')\n",
        "print(acidentes.info())\n",
        "acidentes.head()"
      ],
      "execution_count": null,
      "outputs": [
        {
          "output_type": "stream",
          "name": "stdout",
          "text": [
            "<class 'pandas.core.frame.DataFrame'>\n",
            "RangeIndex: 5236 entries, 0 to 5235\n",
            "Data columns (total 21 columns):\n",
            " #   Column                     Non-Null Count  Dtype \n",
            "---  ------                     --------------  ----- \n",
            " 0   codigo                     5236 non-null   int64 \n",
            " 1   tipo                       5236 non-null   object\n",
            " 2   descricao                  5236 non-null   object\n",
            " 3   cidade                     5236 non-null   object\n",
            " 4   estado                     5236 non-null   object\n",
            " 5   data                       5236 non-null   object\n",
            " 6   ano                        5236 non-null   int64 \n",
            " 7   hora                       5236 non-null   object\n",
            " 8   aeronave_liberada          5236 non-null   object\n",
            " 9   status_investigacao        5236 non-null   object\n",
            " 10  aeronaves_envolvidas       5236 non-null   int64 \n",
            " 11  ocorrencia_saida_pista     5236 non-null   object\n",
            " 12  aeronave_tipo              5236 non-null   object\n",
            " 13  aeronave_fabricante        5236 non-null   object\n",
            " 14  motor_tipo                 5236 non-null   object\n",
            " 15  aeronave_motor_quantidade  5236 non-null   object\n",
            " 16  aeronave_assentos          5236 non-null   int64 \n",
            " 17  aeronave_ano_fabricacao    5236 non-null   int64 \n",
            " 18  aeronave_pais_fabricante   5236 non-null   object\n",
            " 19  aeronave_fase_operacao     5236 non-null   object\n",
            " 20  aeronave_nivel_dano        5236 non-null   object\n",
            "dtypes: int64(5), object(16)\n",
            "memory usage: 859.2+ KB\n",
            "None\n"
          ]
        },
        {
          "output_type": "execute_result",
          "data": {
            "text/html": [
              "<div>\n",
              "<style scoped>\n",
              "    .dataframe tbody tr th:only-of-type {\n",
              "        vertical-align: middle;\n",
              "    }\n",
              "\n",
              "    .dataframe tbody tr th {\n",
              "        vertical-align: top;\n",
              "    }\n",
              "\n",
              "    .dataframe thead th {\n",
              "        text-align: right;\n",
              "    }\n",
              "</style>\n",
              "<table border=\"1\" class=\"dataframe\">\n",
              "  <thead>\n",
              "    <tr style=\"text-align: right;\">\n",
              "      <th></th>\n",
              "      <th>codigo</th>\n",
              "      <th>tipo</th>\n",
              "      <th>descricao</th>\n",
              "      <th>cidade</th>\n",
              "      <th>estado</th>\n",
              "      <th>data</th>\n",
              "      <th>ano</th>\n",
              "      <th>hora</th>\n",
              "      <th>aeronave_liberada</th>\n",
              "      <th>status_investigacao</th>\n",
              "      <th>aeronaves_envolvidas</th>\n",
              "      <th>ocorrencia_saida_pista</th>\n",
              "      <th>aeronave_tipo</th>\n",
              "      <th>aeronave_fabricante</th>\n",
              "      <th>motor_tipo</th>\n",
              "      <th>aeronave_motor_quantidade</th>\n",
              "      <th>aeronave_assentos</th>\n",
              "      <th>aeronave_ano_fabricacao</th>\n",
              "      <th>aeronave_pais_fabricante</th>\n",
              "      <th>aeronave_fase_operacao</th>\n",
              "      <th>aeronave_nivel_dano</th>\n",
              "    </tr>\n",
              "  </thead>\n",
              "  <tbody>\n",
              "    <tr>\n",
              "      <th>0</th>\n",
              "      <td>40107</td>\n",
              "      <td>ACIDENTE</td>\n",
              "      <td>COLISÃO COM OBSTÁCULO DURANTE A DECOLAGEM E POUSO</td>\n",
              "      <td>GURUPÁ</td>\n",
              "      <td>PA</td>\n",
              "      <td>12/01/2010</td>\n",
              "      <td>2010</td>\n",
              "      <td>14:30:00</td>\n",
              "      <td>SIM</td>\n",
              "      <td>FINALIZADA</td>\n",
              "      <td>1</td>\n",
              "      <td>NÃO</td>\n",
              "      <td>AVIÃO</td>\n",
              "      <td>NEIVA INDUSTRIA AERONAUTICA</td>\n",
              "      <td>PISTÃO</td>\n",
              "      <td>MONOMOTOR</td>\n",
              "      <td>7</td>\n",
              "      <td>1977</td>\n",
              "      <td>BRASIL</td>\n",
              "      <td>POUSO</td>\n",
              "      <td>LEVE</td>\n",
              "    </tr>\n",
              "    <tr>\n",
              "      <th>1</th>\n",
              "      <td>40147</td>\n",
              "      <td>ACIDENTE</td>\n",
              "      <td>FALHA OU MAU FUNCIONAMENTO DE SISTEMA / COMPON...</td>\n",
              "      <td>UNIÃO DA VITÓRIA</td>\n",
              "      <td>PR</td>\n",
              "      <td>08/04/2010</td>\n",
              "      <td>2010</td>\n",
              "      <td>14:20:00</td>\n",
              "      <td>SIM</td>\n",
              "      <td>FINALIZADA</td>\n",
              "      <td>1</td>\n",
              "      <td>SIM</td>\n",
              "      <td>AVIÃO</td>\n",
              "      <td>PIPER AIRCRAFT</td>\n",
              "      <td>PISTÃO</td>\n",
              "      <td>BIMOTOR</td>\n",
              "      <td>6</td>\n",
              "      <td>1997</td>\n",
              "      <td>BRASIL</td>\n",
              "      <td>POUSO</td>\n",
              "      <td>SUBSTANCIAL</td>\n",
              "    </tr>\n",
              "    <tr>\n",
              "      <th>2</th>\n",
              "      <td>40148</td>\n",
              "      <td>ACIDENTE</td>\n",
              "      <td>PANE SECA</td>\n",
              "      <td>CAMPO GRANDE</td>\n",
              "      <td>MS</td>\n",
              "      <td>19/03/2010</td>\n",
              "      <td>2010</td>\n",
              "      <td>19:30:00</td>\n",
              "      <td>SIM</td>\n",
              "      <td>FINALIZADA</td>\n",
              "      <td>1</td>\n",
              "      <td>NÃO</td>\n",
              "      <td>AVIÃO</td>\n",
              "      <td>CESSNA AIRCRAFT</td>\n",
              "      <td>PISTÃO</td>\n",
              "      <td>MONOMOTOR</td>\n",
              "      <td>6</td>\n",
              "      <td>1962</td>\n",
              "      <td>BRASIL</td>\n",
              "      <td>APROXIMAÇÃO FINAL</td>\n",
              "      <td>SUBSTANCIAL</td>\n",
              "    </tr>\n",
              "    <tr>\n",
              "      <th>3</th>\n",
              "      <td>40149</td>\n",
              "      <td>ACIDENTE</td>\n",
              "      <td>FALHA DO MOTOR EM VOO</td>\n",
              "      <td>LUZIÂNIA</td>\n",
              "      <td>GO</td>\n",
              "      <td>21/03/2010</td>\n",
              "      <td>2010</td>\n",
              "      <td>20:45:00</td>\n",
              "      <td>SIM</td>\n",
              "      <td>FINALIZADA</td>\n",
              "      <td>1</td>\n",
              "      <td>NÃO</td>\n",
              "      <td>AVIÃO</td>\n",
              "      <td>XAVANTE</td>\n",
              "      <td>PISTÃO</td>\n",
              "      <td>MONOMOTOR</td>\n",
              "      <td>2</td>\n",
              "      <td>1974</td>\n",
              "      <td>BRASIL</td>\n",
              "      <td>DECOLAGEM</td>\n",
              "      <td>DESTRUÍDA</td>\n",
              "    </tr>\n",
              "    <tr>\n",
              "      <th>4</th>\n",
              "      <td>40150</td>\n",
              "      <td>INCIDENTE GRAVE</td>\n",
              "      <td>COM TREM DE POUSO</td>\n",
              "      <td>SANTA MARIA</td>\n",
              "      <td>RS</td>\n",
              "      <td>10/03/2010</td>\n",
              "      <td>2010</td>\n",
              "      <td>17:20:00</td>\n",
              "      <td>SIM</td>\n",
              "      <td>FINALIZADA</td>\n",
              "      <td>1</td>\n",
              "      <td>NÃO</td>\n",
              "      <td>AVIÃO</td>\n",
              "      <td>BEECH AIRCRAFT</td>\n",
              "      <td>PISTÃO</td>\n",
              "      <td>MONOMOTOR</td>\n",
              "      <td>6</td>\n",
              "      <td>1974</td>\n",
              "      <td>BRASIL</td>\n",
              "      <td>POUSO</td>\n",
              "      <td>LEVE</td>\n",
              "    </tr>\n",
              "  </tbody>\n",
              "</table>\n",
              "</div>"
            ],
            "text/plain": [
              "   codigo             tipo  ... aeronave_fase_operacao aeronave_nivel_dano\n",
              "0   40107         ACIDENTE  ...                  POUSO                LEVE\n",
              "1   40147         ACIDENTE  ...                  POUSO         SUBSTANCIAL\n",
              "2   40148         ACIDENTE  ...      APROXIMAÇÃO FINAL         SUBSTANCIAL\n",
              "3   40149         ACIDENTE  ...              DECOLAGEM           DESTRUÍDA\n",
              "4   40150  INCIDENTE GRAVE  ...                  POUSO                LEVE\n",
              "\n",
              "[5 rows x 21 columns]"
            ]
          },
          "metadata": {},
          "execution_count": 28
        }
      ]
    },
    {
      "cell_type": "code",
      "metadata": {
        "id": "wssz4QDRvTG_",
        "colab": {
          "base_uri": "https://localhost:8080/",
          "height": 297
        },
        "outputId": "c915e743-f3f7-43c5-c0dc-5b606a35528e"
      },
      "source": [
        "acidentes.describe()"
      ],
      "execution_count": null,
      "outputs": [
        {
          "output_type": "execute_result",
          "data": {
            "text/html": [
              "<div>\n",
              "<style scoped>\n",
              "    .dataframe tbody tr th:only-of-type {\n",
              "        vertical-align: middle;\n",
              "    }\n",
              "\n",
              "    .dataframe tbody tr th {\n",
              "        vertical-align: top;\n",
              "    }\n",
              "\n",
              "    .dataframe thead th {\n",
              "        text-align: right;\n",
              "    }\n",
              "</style>\n",
              "<table border=\"1\" class=\"dataframe\">\n",
              "  <thead>\n",
              "    <tr style=\"text-align: right;\">\n",
              "      <th></th>\n",
              "      <th>codigo</th>\n",
              "      <th>ano</th>\n",
              "      <th>aeronaves_envolvidas</th>\n",
              "      <th>aeronave_assentos</th>\n",
              "      <th>aeronave_ano_fabricacao</th>\n",
              "    </tr>\n",
              "  </thead>\n",
              "  <tbody>\n",
              "    <tr>\n",
              "      <th>count</th>\n",
              "      <td>5236.000000</td>\n",
              "      <td>5236.000000</td>\n",
              "      <td>5236.000000</td>\n",
              "      <td>5236.000000</td>\n",
              "      <td>5236.000000</td>\n",
              "    </tr>\n",
              "    <tr>\n",
              "      <th>mean</th>\n",
              "      <td>56446.838999</td>\n",
              "      <td>2014.175516</td>\n",
              "      <td>1.011841</td>\n",
              "      <td>27.496944</td>\n",
              "      <td>1863.539725</td>\n",
              "    </tr>\n",
              "    <tr>\n",
              "      <th>std</th>\n",
              "      <td>13031.097910</td>\n",
              "      <td>2.846996</td>\n",
              "      <td>0.111657</td>\n",
              "      <td>54.412277</td>\n",
              "      <td>506.668272</td>\n",
              "    </tr>\n",
              "    <tr>\n",
              "      <th>min</th>\n",
              "      <td>39115.000000</td>\n",
              "      <td>2010.000000</td>\n",
              "      <td>1.000000</td>\n",
              "      <td>0.000000</td>\n",
              "      <td>0.000000</td>\n",
              "    </tr>\n",
              "    <tr>\n",
              "      <th>25%</th>\n",
              "      <td>46021.250000</td>\n",
              "      <td>2012.000000</td>\n",
              "      <td>1.000000</td>\n",
              "      <td>2.000000</td>\n",
              "      <td>1978.000000</td>\n",
              "    </tr>\n",
              "    <tr>\n",
              "      <th>50%</th>\n",
              "      <td>51683.500000</td>\n",
              "      <td>2014.000000</td>\n",
              "      <td>1.000000</td>\n",
              "      <td>6.000000</td>\n",
              "      <td>1992.000000</td>\n",
              "    </tr>\n",
              "    <tr>\n",
              "      <th>75%</th>\n",
              "      <td>66444.250000</td>\n",
              "      <td>2017.000000</td>\n",
              "      <td>1.000000</td>\n",
              "      <td>10.000000</td>\n",
              "      <td>2007.000000</td>\n",
              "    </tr>\n",
              "    <tr>\n",
              "      <th>max</th>\n",
              "      <td>79227.000000</td>\n",
              "      <td>2019.000000</td>\n",
              "      <td>3.000000</td>\n",
              "      <td>384.000000</td>\n",
              "      <td>9999.000000</td>\n",
              "    </tr>\n",
              "  </tbody>\n",
              "</table>\n",
              "</div>"
            ],
            "text/plain": [
              "             codigo          ano  ...  aeronave_assentos  aeronave_ano_fabricacao\n",
              "count   5236.000000  5236.000000  ...        5236.000000              5236.000000\n",
              "mean   56446.838999  2014.175516  ...          27.496944              1863.539725\n",
              "std    13031.097910     2.846996  ...          54.412277               506.668272\n",
              "min    39115.000000  2010.000000  ...           0.000000                 0.000000\n",
              "25%    46021.250000  2012.000000  ...           2.000000              1978.000000\n",
              "50%    51683.500000  2014.000000  ...           6.000000              1992.000000\n",
              "75%    66444.250000  2017.000000  ...          10.000000              2007.000000\n",
              "max    79227.000000  2019.000000  ...         384.000000              9999.000000\n",
              "\n",
              "[8 rows x 5 columns]"
            ]
          },
          "metadata": {},
          "execution_count": 27
        }
      ]
    },
    {
      "cell_type": "code",
      "metadata": {
        "colab": {
          "base_uri": "https://localhost:8080/",
          "height": 300
        },
        "id": "ptiuhnetwX58",
        "outputId": "16bc983a-fc8d-4142-8710-7be44f8f6180"
      },
      "source": [
        "acidentes.ano.plot(kind='density')\n",
        "\n",
        "plt.title('Aeronoves Envolvidas x Ano', fontdict= {'fontsize':20})\n",
        "plt.xlabel('ano')\n",
        "plt.ylabel('aeronaves_envolvidas')\n",
        "\n",
        "plt.show()"
      ],
      "execution_count": null,
      "outputs": [
        {
          "output_type": "display_data",
          "data": {
            "image/png": "[encoded data removed]",
            "text/plain": [
              "<Figure size 432x288 with 1 Axes>"
            ]
          },
          "metadata": {
            "needs_background": "light"
          }
        }
      ]
    },
    {
      "cell_type": "code",
      "metadata": {
        "colab": {
          "base_uri": "https://localhost:8080/",
          "height": 359
        },
        "id": "5PPVNCFtyNf9",
        "outputId": "7c7329c2-ed23-41c9-8ade-db090a6c0fbd"
      },
      "source": [
        "grupo = acidentes.groupby('ano').mean().reset_index()\n",
        "grupo"
      ],
      "execution_count": null,
      "outputs": [
        {
          "output_type": "execute_result",
          "data": {
            "text/html": [
              "<div>\n",
              "<style scoped>\n",
              "    .dataframe tbody tr th:only-of-type {\n",
              "        vertical-align: middle;\n",
              "    }\n",
              "\n",
              "    .dataframe tbody tr th {\n",
              "        vertical-align: top;\n",
              "    }\n",
              "\n",
              "    .dataframe thead th {\n",
              "        text-align: right;\n",
              "    }\n",
              "</style>\n",
              "<table border=\"1\" class=\"dataframe\">\n",
              "  <thead>\n",
              "    <tr style=\"text-align: right;\">\n",
              "      <th></th>\n",
              "      <th>ano</th>\n",
              "      <th>codigo</th>\n",
              "      <th>aeronaves_envolvidas</th>\n",
              "      <th>aeronave_assentos</th>\n",
              "      <th>aeronave_ano_fabricacao</th>\n",
              "    </tr>\n",
              "  </thead>\n",
              "  <tbody>\n",
              "    <tr>\n",
              "      <th>0</th>\n",
              "      <td>2010</td>\n",
              "      <td>41870.536232</td>\n",
              "      <td>1.001812</td>\n",
              "      <td>37.701087</td>\n",
              "      <td>1929.253623</td>\n",
              "    </tr>\n",
              "    <tr>\n",
              "      <th>1</th>\n",
              "      <td>2011</td>\n",
              "      <td>45430.557292</td>\n",
              "      <td>1.013889</td>\n",
              "      <td>32.197917</td>\n",
              "      <td>1935.524306</td>\n",
              "    </tr>\n",
              "    <tr>\n",
              "      <th>2</th>\n",
              "      <td>2012</td>\n",
              "      <td>46508.565688</td>\n",
              "      <td>1.006182</td>\n",
              "      <td>21.868624</td>\n",
              "      <td>1926.995363</td>\n",
              "    </tr>\n",
              "    <tr>\n",
              "      <th>3</th>\n",
              "      <td>2013</td>\n",
              "      <td>48835.430322</td>\n",
              "      <td>1.009188</td>\n",
              "      <td>25.875957</td>\n",
              "      <td>1950.474732</td>\n",
              "    </tr>\n",
              "    <tr>\n",
              "      <th>4</th>\n",
              "      <td>2014</td>\n",
              "      <td>51891.998236</td>\n",
              "      <td>1.019400</td>\n",
              "      <td>25.492063</td>\n",
              "      <td>1919.335097</td>\n",
              "    </tr>\n",
              "    <tr>\n",
              "      <th>5</th>\n",
              "      <td>2015</td>\n",
              "      <td>53786.883227</td>\n",
              "      <td>1.002123</td>\n",
              "      <td>23.537155</td>\n",
              "      <td>1901.397028</td>\n",
              "    </tr>\n",
              "    <tr>\n",
              "      <th>6</th>\n",
              "      <td>2016</td>\n",
              "      <td>63707.679901</td>\n",
              "      <td>1.024814</td>\n",
              "      <td>22.712159</td>\n",
              "      <td>1785.042184</td>\n",
              "    </tr>\n",
              "    <tr>\n",
              "      <th>7</th>\n",
              "      <td>2017</td>\n",
              "      <td>70740.523041</td>\n",
              "      <td>1.009217</td>\n",
              "      <td>30.859447</td>\n",
              "      <td>1782.688940</td>\n",
              "    </tr>\n",
              "    <tr>\n",
              "      <th>8</th>\n",
              "      <td>2018</td>\n",
              "      <td>78003.447964</td>\n",
              "      <td>1.024887</td>\n",
              "      <td>21.705882</td>\n",
              "      <td>1727.968326</td>\n",
              "    </tr>\n",
              "    <tr>\n",
              "      <th>9</th>\n",
              "      <td>2019</td>\n",
              "      <td>78788.274949</td>\n",
              "      <td>1.012220</td>\n",
              "      <td>32.364562</td>\n",
              "      <td>1663.169043</td>\n",
              "    </tr>\n",
              "  </tbody>\n",
              "</table>\n",
              "</div>"
            ],
            "text/plain": [
              "    ano        codigo  ...  aeronave_assentos  aeronave_ano_fabricacao\n",
              "0  2010  41870.536232  ...          37.701087              1929.253623\n",
              "1  2011  45430.557292  ...          32.197917              1935.524306\n",
              "2  2012  46508.565688  ...          21.868624              1926.995363\n",
              "3  2013  48835.430322  ...          25.875957              1950.474732\n",
              "4  2014  51891.998236  ...          25.492063              1919.335097\n",
              "5  2015  53786.883227  ...          23.537155              1901.397028\n",
              "6  2016  63707.679901  ...          22.712159              1785.042184\n",
              "7  2017  70740.523041  ...          30.859447              1782.688940\n",
              "8  2018  78003.447964  ...          21.705882              1727.968326\n",
              "9  2019  78788.274949  ...          32.364562              1663.169043\n",
              "\n",
              "[10 rows x 5 columns]"
            ]
          },
          "metadata": {},
          "execution_count": 25
        }
      ]
    },
    {
      "cell_type": "code",
      "metadata": {
        "colab": {
          "base_uri": "https://localhost:8080/",
          "height": 265
        },
        "id": "MESily3izJAo",
        "outputId": "88a56bb9-d0b9-477d-f06f-94832cf35321"
      },
      "source": [
        "plt.bar(grupo['ano'],grupo['aeronave_assentos'])\n",
        "plt.grid(True)\n",
        "plt.show()"
      ],
      "execution_count": null,
      "outputs": [
        {
          "output_type": "display_data",
          "data": {
            "image/png": "[encoded data removed]",
            "text/plain": [
              "<Figure size 432x288 with 1 Axes>"
            ]
          },
          "metadata": {
            "needs_background": "light"
          }
        }
      ]
    },
    {
      "cell_type": "code",
      "metadata": {
        "colab": {
          "base_uri": "https://localhost:8080/",
          "height": 503
        },
        "id": "OcuSJrOyzwVB",
        "outputId": "d7dc395f-b9f8-468c-b374-cd7a6d263d3e"
      },
      "source": [
        "grupo = acidentes[(acidentes.ano == 2010)].groupby(by='ano').count()\n",
        "ano2010 = grupo.codigo \n",
        "grupo = acidentes[(acidentes.ano == 2012)].groupby(by='ano').count()\n",
        "ano2012 = grupo.codigo\n",
        "grupo = acidentes[(acidentes.ano == 2014)].groupby(by='ano').count() \n",
        "ano2014 =  grupo.codigo\n",
        "grupo = acidentes[(acidentes.ano == 2015)].groupby(by='ano').count() \n",
        "ano2015 =  grupo.codigo\n",
        "grupo = acidentes[(acidentes.ano == 2018)].groupby(by='ano').count() \n",
        "ano2018 =  grupo.codigo\n",
        "grupo = acidentes[(acidentes.ano == 2019)].groupby(by='ano').count() \n",
        "ano2019 =  grupo.codigo\n",
        "y = np.array([ano2010,ano2012,ano2014,ano2015,ano2018,ano2019])\n",
        "plt.figure(figsize=(8,8))\n",
        "rotulos = ['2010','2012','2014','2015','2018','2019']\n",
        "afastamento = [0.0, 0.0, 0.0, 0.0, 0.0, 0.0]\n",
        "cores = ['black','y','b','#B0E0E6','#FFDAB9','#FFFF00']\n",
        "plt.pie(\n",
        "    y,\n",
        "    labels = rotulos,\n",
        "    startangle = 45,\n",
        "    explode = afastamento,\n",
        "    colors = cores\n",
        "    )\n",
        "plt.show()"
      ],
      "execution_count": null,
      "outputs": [
        {
          "output_type": "stream",
          "name": "stderr",
          "text": [
            "/usr/local/lib/python3.7/dist-packages/ipykernel_launcher.py:23: MatplotlibDeprecationWarning: Non-1D inputs to pie() are currently squeeze()d, but this behavior is deprecated since 3.1 and will be removed in 3.3; pass a 1D array instead.\n"
          ]
        },
        {
          "output_type": "display_data",
          "data": {
            "image/png": "[encoded data removed]",
            "text/plain": [
              "<Figure size 576x576 with 1 Axes>"
            ]
          },
          "metadata": {}
        }
      ]
    },
    {
      "cell_type": "code",
      "metadata": {
        "colab": {
          "base_uri": "https://localhost:8080/",
          "height": 503
        },
        "id": "VCW7k8rR8Zs5",
        "outputId": "407779c3-c213-4255-c34c-3c48f0035737"
      },
      "source": [
        "grupo = acidentes[(acidentes.aeronave_ano_fabricacao == 1962)].groupby(by='aeronave_ano_fabricacao').count()\n",
        "ano1962 = grupo.codigo \n",
        "grupo = acidentes[(acidentes.aeronave_ano_fabricacao == 1974)].groupby(by='aeronave_ano_fabricacao').count()\n",
        "ano1974 = grupo.tipo\n",
        "grupo = acidentes[(acidentes.aeronave_ano_fabricacao == 1963)].groupby(by='aeronave_ano_fabricacao').count() \n",
        "ano1963 =  grupo.codigo\n",
        "grupo = acidentes[(acidentes.aeronave_ano_fabricacao == 1976)].groupby(by='aeronave_ano_fabricacao').count()\n",
        "ano1976 =  grupo.codigo\n",
        "grupo = acidentes[(acidentes.aeronave_ano_fabricacao == 1977)].groupby(by='aeronave_ano_fabricacao').count()\n",
        "ano1977 =  grupo.codigo\n",
        "grupo = acidentes[(acidentes.aeronave_ano_fabricacao == 1978)].groupby(by='aeronave_ano_fabricacao').count()\n",
        "ano1978 =  grupo.codigo\n",
        "y = np.array([ano1962,ano1974,ano1963,ano1976,ano1977,ano1978])\n",
        "plt.figure(figsize=(8,8))\n",
        "rotulos = ['1962','1974','1963','1976','1977','1978']\n",
        "afastamento = [0.0, 0.0, 0.0, 0.0, 0.0, 0.0]\n",
        "cores = ['black','y','b','#B0E0E6','#FFDAB9','#FFFF00']\n",
        "plt.pie(\n",
        "    y,\n",
        "    labels = rotulos,\n",
        "    startangle = 45,\n",
        "    explode = afastamento,\n",
        "    colors = cores\n",
        "    )\n",
        "plt.show()"
      ],
      "execution_count": null,
      "outputs": [
        {
          "output_type": "stream",
          "name": "stderr",
          "text": [
            "/usr/local/lib/python3.7/dist-packages/ipykernel_launcher.py:23: MatplotlibDeprecationWarning: Non-1D inputs to pie() are currently squeeze()d, but this behavior is deprecated since 3.1 and will be removed in 3.3; pass a 1D array instead.\n"
          ]
        },
        {
          "output_type": "display_data",
          "data": {
            "image/png": "[encoded data removed]",
            "text/plain": [
              "<Figure size 576x576 with 1 Axes>"
            ]
          },
          "metadata": {}
        }
      ]
    },
    {
      "cell_type": "code",
      "metadata": {
        "colab": {
          "base_uri": "https://localhost:8080/"
        },
        "id": "rEjl3_iV3vE2",
        "outputId": "f725b766-9a08-4c88-becb-8bac2157543a"
      },
      "source": [
        "tipoacidente = acidentes.groupby('tipo')['tipo'].count()\n",
        "tipoacidente"
      ],
      "execution_count": null,
      "outputs": [
        {
          "output_type": "execute_result",
          "data": {
            "text/plain": [
              "tipo\n",
              "ACIDENTE           1694\n",
              "INCIDENTE          2882\n",
              "INCIDENTE GRAVE     660\n",
              "Name: tipo, dtype: int64"
            ]
          },
          "metadata": {},
          "execution_count": 13
        }
      ]
    },
    {
      "cell_type": "code",
      "metadata": {
        "colab": {
          "base_uri": "https://localhost:8080/"
        },
        "id": "8_DIfDBv_iB-",
        "outputId": "a2a7641d-88af-44c3-b701-9204d2d1da23"
      },
      "source": [
        "acidentes.groupby('cidade')['cidade'].count()"
      ],
      "execution_count": null,
      "outputs": [
        {
          "output_type": "execute_result",
          "data": {
            "text/plain": [
              "cidade\n",
              "ABADIA DE GOIÁS    2\n",
              "ACREÚNA            1\n",
              "AFONSO CLÁUDIO     1\n",
              "AFUÁ               2\n",
              "AGUAÍ              1\n",
              "                  ..\n",
              "ÁGUA CLARA         4\n",
              "ÁGUA LIMPA         1\n",
              "ÁLVARES MACHADO    2\n",
              "ÂNGULO             1\n",
              "ÓBIDOS             2\n",
              "Name: cidade, Length: 1042, dtype: int64"
            ]
          },
          "metadata": {},
          "execution_count": 14
        }
      ]
    },
    {
      "cell_type": "code",
      "metadata": {
        "colab": {
          "base_uri": "https://localhost:8080/"
        },
        "id": "Be4U15Fv_rhR",
        "outputId": "c7576954-86ee-4ec7-ab9a-8bb448fe2b67"
      },
      "source": [
        "acidentes.groupby('descricao')['descricao'].count()"
      ],
      "execution_count": null,
      "outputs": [
        {
          "output_type": "execute_result",
          "data": {
            "text/plain": [
              "descricao\n",
              "AERONAVE ATINGIDA POR OBJETO                    10\n",
              "AERÓDROMO                                        6\n",
              "ALARME FALSO DE FOGO OU DE SUPERAQUECIMENTO      9\n",
              "CAUSADO POR FENÔMENO METEOROLÓGICO EM VOO      100\n",
              "CAUSADO POR FENÔMENO METEOROLÓGICO NO SOLO      11\n",
              "                                              ... \n",
              "TRÁFEGO AÉREO                                  120\n",
              "TURBULÊNCIA                                      6\n",
              "VAZAMENTO DE COMBUSTÍVEL                        16\n",
              "VAZAMENTO DE OUTROS FLUIDOS                     55\n",
              "VOO CONTROLADO CONTRA O TERRENO                 32\n",
              "Name: descricao, Length: 74, dtype: int64"
            ]
          },
          "metadata": {},
          "execution_count": 15
        }
      ]
    },
    {
      "cell_type": "code",
      "metadata": {
        "colab": {
          "base_uri": "https://localhost:8080/"
        },
        "id": "unFlGRpN_0KO",
        "outputId": "5f18fd38-b1dc-4b03-c43c-18bcc65885bc"
      },
      "source": [
        "acidentes.groupby('ano')['ano'].count()"
      ],
      "execution_count": null,
      "outputs": [
        {
          "output_type": "execute_result",
          "data": {
            "text/plain": [
              "ano\n",
              "2010    552\n",
              "2011    576\n",
              "2012    647\n",
              "2013    653\n",
              "2014    567\n",
              "2015    471\n",
              "2016    403\n",
              "2017    434\n",
              "2018    442\n",
              "2019    491\n",
              "Name: ano, dtype: int64"
            ]
          },
          "metadata": {},
          "execution_count": 16
        }
      ]
    },
    {
      "cell_type": "code",
      "metadata": {
        "colab": {
          "base_uri": "https://localhost:8080/"
        },
        "id": "UD6m12s7_5Kd",
        "outputId": "cbe779db-3a30-4854-e45b-59f4a3fff3f3"
      },
      "source": [
        "acidentes.groupby('status_investigacao')['status_investigacao'].count()"
      ],
      "execution_count": null,
      "outputs": [
        {
          "output_type": "execute_result",
          "data": {
            "text/plain": [
              "status_investigacao\n",
              "ATIVA             815\n",
              "FINALIZADA       4061\n",
              "INDETERMINADA     360\n",
              "Name: status_investigacao, dtype: int64"
            ]
          },
          "metadata": {},
          "execution_count": 17
        }
      ]
    },
    {
      "cell_type": "code",
      "metadata": {
        "colab": {
          "base_uri": "https://localhost:8080/"
        },
        "id": "agjLJO1j_-eA",
        "outputId": "cc7c4bde-f421-4d9a-c080-337b586de0eb"
      },
      "source": [
        "acidentes.groupby('aeronave_fabricante')['aeronave_fabricante'].count()"
      ],
      "execution_count": null,
      "outputs": [
        {
          "output_type": "execute_result",
          "data": {
            "text/plain": [
              "aeronave_fabricante\n",
              "AERO BOERO                                179\n",
              "AERO COMMANDER                              1\n",
              "AEROALCOOL TECNOLOGIA LTDA                  3\n",
              "AEROBRAVO                                   1\n",
              "AEROBRAVO INDÚSTRIA AERONÁUTICA LTDA        1\n",
              "                                         ... \n",
              "VECTOR ULTRALIGHT INDUSTRIA E COMERCIO      2\n",
              "VERA LUCIA NICIOLI                          1\n",
              "VINICIUS MARINI FERREIRA                    1\n",
              "WILLIAM DA SILVA MATIAS                     1\n",
              "XAVANTE                                    10\n",
              "Name: aeronave_fabricante, Length: 223, dtype: int64"
            ]
          },
          "metadata": {},
          "execution_count": 18
        }
      ]
    },
    {
      "cell_type": "code",
      "metadata": {
        "colab": {
          "base_uri": "https://localhost:8080/"
        },
        "id": "TYc_1jgUAJEe",
        "outputId": "f8ae9869-ce1f-44a7-e693-afb3abddc9ea"
      },
      "source": [
        "acidentes.groupby('aeronave_fase_operacao')['aeronave_fase_operacao'].count()\n"
      ],
      "execution_count": null,
      "outputs": [
        {
          "output_type": "execute_result",
          "data": {
            "text/plain": [
              "aeronave_fase_operacao\n",
              "APROXIMAÇÃO FINAL                  266\n",
              "ARREMETIDA NO AR                    26\n",
              "ARREMETIDA NO SOLO                  42\n",
              "CHEQUE DE MOTOR OU ROTOR             8\n",
              "CIRCUITO DE TRÁFEGO                131\n",
              "CORRIDA APÓS POUSO                 560\n",
              "CRUZEIRO                           742\n",
              "DECOLAGEM                          851\n",
              "DECOLAGEM VERTICAL                  12\n",
              "DESCIDA                            155\n",
              "DESCIDA DE EMERGÊNCIA                2\n",
              "DESCIDA DESCONTROLADA                3\n",
              "EMPREGO MILITAR                      1\n",
              "ESPECIALIZADA                      160\n",
              "ESPERA                               5\n",
              "ESTACIONAMENTO                      68\n",
              "INDETERMINADA                       97\n",
              "INDETERMINADO                       11\n",
              "MANOBRA                            194\n",
              "MUDANÇA DE NÍVEL OU ALTITUDE         1\n",
              "OPERAÇÃO DE SOLO                    31\n",
              "OUTRA FASE                          85\n",
              "PAIRADO                             18\n",
              "PARTIDA DO MOTOR                    28\n",
              "POUSO                              909\n",
              "PROCEDIMENTO DE APROXIMAÇÃO IFR     11\n",
              "PUSHBACK                             6\n",
              "RETA FINAL                          15\n",
              "SAÍDA IFR                            8\n",
              "SUBIDA                             341\n",
              "TÁXI                               400\n",
              "VOO A BAIXA ALTURA                  49\n",
              "Name: aeronave_fase_operacao, dtype: int64"
            ]
          },
          "metadata": {},
          "execution_count": 22
        }
      ]
    },
    {
      "cell_type": "code",
      "metadata": {
        "colab": {
          "base_uri": "https://localhost:8080/"
        },
        "id": "bRQQzwGQAXUO",
        "outputId": "e4a110cf-13f0-4250-f510-312c30131ea4"
      },
      "source": [
        "\n",
        "acidentes.groupby('aeronave_nivel_dano')['aeronave_nivel_dano'].count()#acident dano nivel\n",
        " "
      ],
      "execution_count": null,
      "outputs": [
        {
          "output_type": "execute_result",
          "data": {
            "text/plain": [
              "aeronave_nivel_dano\n",
              "DESTRUÍDA         329\n",
              "INDETERMINADO      42\n",
              "LEVE             1529\n",
              "NENHUM           1821\n",
              "SUBSTANCIAL      1515\n",
              "Name: aeronave_nivel_dano, dtype: int64"
            ]
          },
          "metadata": {},
          "execution_count": 21
        }
      ]
    }
  ]
}